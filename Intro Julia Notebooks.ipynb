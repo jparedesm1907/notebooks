{
 "cells": [
  {
   "cell_type": "markdown",
   "metadata": {},
   "source": [
    "# ¿Julia Notebooks?"
   ]
  },
  {
   "cell_type": "markdown",
   "metadata": {},
   "source": [
    "¡Hola! Soy Jorge Paredes y estoy con ustedes en Advanced Macroeconomics. \n",
    "\n",
    "Esta es una pequeña información que les puede ser bastante útil para hacer los deberes de esta parte. Carlos nos dijo que usaríamos Julia Pro para esta sección del curso. Nos bajamos y la mayoría no tuvo mucho problema con esta parte, pero nos dimos cuenta que el código se ejecuta en un `script`, tal como los de `R` o `Stata`. Entonces iba a ser muy tedioso tener que correr código, tomar screenshot, poner en un word y hacer pdf. "
   ]
  },
  {
   "cell_type": "markdown",
   "metadata": {},
   "source": [
    "Entonces, estuve buscando todo un día cómo hacer cuadernos en Julia. No encontré mucho, la verdad no hay **tanta** información de Julia como la hay de R o Python. Entonces, ¿qué es un cuaderno para programación? Muchos ya hemos trabajado en R y creado cuadernos o documentos del tipo .rmd (r markdown) Es lo mismo.\n",
    "\n",
    "Entonces definamos a un cuaderno como un documento interactivo que junta texto (en formato markdown) y código (depende del programa). Creo que la ventaja es obvia, puedes meter tu código y tus respuestas de texto en el cuaderno y ya lo puedes exportar en PDF, HTML, o incluso en Tex. (**es bien denso**)\n",
    "\n",
    "Este cuaderno lo hice en `Jupyter`, este programa sirve para hacer cuadernos (principalmente de python) pero le puedes hacer que te haga un cuaderno con el código de Julia y funciona bastante bien. "
   ]
  },
  {
   "cell_type": "markdown",
   "metadata": {},
   "source": [
    "## Acceso a Jupyter\n",
    "\n",
    "Seamos concretos, ¿cómo entramos a jupyter? Hay dos opciones. \n",
    "- En linea\n",
    "- Via Anaconda\n",
    "Ambas tienen sus pros y contras y los voy a exponer.\n",
    "\n",
    "### En línea\n",
    "En línea solo tienen que entrar [aquí](https://jupyter.org/) (este enlace los dirige a la página oficial de Project Jupyter).  Y hacen clic en la sección de **try it in your browser** para cualquiera de las dos opciones que les salen. (Jupyter Lab o Jupyter Notebook). \n",
    "\n",
    "**Ventajas**\n",
    "- Es bastante rápido.\n",
    "- No tienes que bajarte ningún programa.\n",
    "\n",
    "**Desventajas**\n",
    "- No se guarda en ningún lado, es como trabajar \"sobre el aire\"\n",
    "- Usa un Kernel (motor de código) de Julia y no **JuliaPro** \n",
    "    - Esto hace que algunos códigos no sirvan. (Pueden servir en Julia, pero no en Julia Pro)\n",
    "- No lo puedes compartir mediante Binder. \n",
    "- Tienes que tener descargado Julia Pro. \n",
    "\n",
    "### Vía Anaconda\n",
    "En línea te tienes que bajarte anaconda, te bajas desde [aquí](https://www.anaconda.com/products/individual). Tienes que estar pendiente de que versión (64 y 32 bits acorde a tu computadora)\n",
    "\n",
    "Una vez te bajas el Anaconda, lo vas a iniciar y donde diga `Jupyter Notebook` le pones `Launch`, a mi se me despliega en google chrome, pero ahí se te despliega en algún navegador. \n",
    "\n",
    "**Ventajas**\n",
    "- Es casi seguro que funciona. \n",
    "- Es más potente\n",
    "- Le puedes hacer cuadernos Jupyter a Python, R y Julia\n",
    "- Puedes compartirlos mediante Binder para que alguien más los corra\n",
    "**Desventajas**\n",
    "- A veces los primeros códigos no te corren\n",
    "    - En especial el de `using Plots` hay un montón de lio con ese, realmente no sé que hice, pero reincié la pestaña varias veces y el kernel igual hasta que salga. \n",
    "- El código varía en el Kernel \n",
    "    - Depende bastante si usas JuliaPro o Julia\n",
    "    \n",
    "## Casos especiales\n",
    "Algunos de ustedes me han dicho que el mismo `Julia Pro`mediante `Atom` no les corre, les hace falta archivos. Realmente nunca experimenté nada de esto, corrió desde la primera vez en mi pc. Lo único que les puedo decir es que guarden todo y reseteen su computadora. \n",
    "\n",
    "Así podría funcionar. \n",
    "\n",
    "Ojalá. \n",
    "\n",
    "\n",
    "Sincerely, Jorge Paredes"
   ]
  }
 ],
 "metadata": {
  "kernelspec": {
   "display_name": "JuliaPro_v1.5.2-1 1.5.2",
   "language": "julia",
   "name": "juliapro_v1.5.2-1-1.5"
  },
  "language_info": {
   "file_extension": ".jl",
   "mimetype": "application/julia",
   "name": "julia",
   "version": "1.5.2"
  }
 },
 "nbformat": 4,
 "nbformat_minor": 4
}
